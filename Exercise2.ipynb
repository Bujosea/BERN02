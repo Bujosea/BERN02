{
 "cells": [
  {
   "cell_type": "markdown",
   "metadata": {},
   "source": [
    "# Generalised Linear Regression"
   ]
  },
  {
   "cell_type": "code",
   "execution_count": 12,
   "metadata": {},
   "outputs": [
    {
     "name": "stdout",
     "output_type": "stream",
     "text": [
      "Overwriting requirements.txt\n"
     ]
    }
   ],
   "source": [
    "%%writefile \"requirements.txt\"\n",
    "pandas==2\n",
    "numpy==1.26\n",
    "scipy==1.12"
   ]
  },
  {
   "cell_type": "code",
   "execution_count": 13,
   "metadata": {},
   "outputs": [],
   "source": [
    "!pip install -r \"requirements.txt\""
   ]
  },
  {
   "cell_type": "code",
   "execution_count": 14,
   "metadata": {},
   "outputs": [],
   "source": [
    "import numpy as np\n",
    "import pandas as pd\n",
    "import scipy.optimize as sci\n",
    "from scipy.special import factorial"
   ]
  },
  {
   "cell_type": "markdown",
   "metadata": {},
   "source": [
    "## Maximum Likelihood for the Poisson GLM\n",
    "\n",
    "The log likelihood for the Poisson GLM is\n",
    "\n",
    "\\begin{equation}\n",
    "    \\log l(y|\\beta_0,\\beta_1,\\dots,\\beta_p,x) = \\sum_{i=1}^n[-\\lambda(x_i)+y_i\\log(\\lambda(x_i))-\\log(y_i!)],\n",
    "\\end{equation}\n",
    "\n",
    "where $x$ is the predictor, $y$ the observation and \n",
    "\n",
    "\\begin{equation}\n",
    "    \\log(\\lambda(x_i)) = \\beta_0 + \\beta_1x_{i1} + \\dots + \\beta_px_{ip}.\n",
    "\\end{equation}"
   ]
  },
  {
   "cell_type": "code",
   "execution_count": 15,
   "metadata": {},
   "outputs": [],
   "source": [
    "def poisson_logl(b, x, y):\n",
    "    \"\"\"Compute the log likelihood of the poisson distribution.\n",
    "\n",
    "    Args:\n",
    "        b (ndarray): contains all the beta parameters\n",
    "        x (ndarray): contains the predictor values\n",
    "        y (ndarray): contains the observation values\n",
    "\n",
    "    Returns:\n",
    "        int : log likelihood\n",
    "    \"\"\"\n",
    "    aux = b[0] + b[1:] * x\n",
    "    \n",
    "    return - np.sum(y * aux - np.log(factorial(y)) - np.exp(aux)) # Minus to compute the maximum\n",
    "\n",
    "def poisson_pred(b, x):\n",
    "    \"\"\"Draw samples from a Poisson distribution determined by the parameter lmb\n",
    "\n",
    "    Args:\n",
    "        b (ndarray): contains all the beta parameters\n",
    "        x (ndarray): contains the predictor values\n",
    "\n",
    "    Returns:\n",
    "        ndarray: Drawns sampled from the parametrized Poisson distribution\n",
    "    \"\"\"\n",
    "    lmb = b[0] + b[1:] * x\n",
    "    \n",
    "    return np.random.poisson(lmb, size = (3, lmb.shape[0]))"
   ]
  },
  {
   "cell_type": "markdown",
   "metadata": {},
   "source": [
    "Load the data and normalized the predictor"
   ]
  },
  {
   "cell_type": "code",
   "execution_count": 16,
   "metadata": {},
   "outputs": [],
   "source": [
    "data = pd.read_csv(\"bird_count.csv\")\n",
    "x = data[\"yr\"].to_numpy() - np.min(data[\"yr\"].to_numpy()) # Predictor\n",
    "y = data[\"count\"].to_numpy() # Observation "
   ]
  },
  {
   "cell_type": "markdown",
   "metadata": {},
   "source": [
    "Find the minimum of the function `poisson_logl` using `sicpy.optimize.minimize()`"
   ]
  },
  {
   "cell_type": "code",
   "execution_count": 17,
   "metadata": {},
   "outputs": [
    {
     "name": "stdout",
     "output_type": "stream",
     "text": [
      "Optimized parameters:  [ 2.32533192 -0.03244318]\n"
     ]
    }
   ],
   "source": [
    "res = sci.minimize(poisson_logl, np.full(2, 1), (x, y))\n",
    "b = res.x # Optimized parameters\n",
    "\n",
    "# Print the optimal parameters\n",
    "print(\"Optimized parameters: \", b)"
   ]
  },
  {
   "cell_type": "markdown",
   "metadata": {},
   "source": [
    "Generate samples of data"
   ]
  },
  {
   "cell_type": "code",
   "execution_count": 18,
   "metadata": {},
   "outputs": [
    {
     "name": "stdout",
     "output_type": "stream",
     "text": [
      "Predicted values\n",
      "[[2011 2010 2002 2006 2008 2012 2000 2005 2007 2004 1999 2001 2009]\n",
      " [   1    2    5    2    2    2    0    3    1    3    0    2    3]\n",
      " [   2    2    3    0    1    1    1    3    2    5    4    3    2]\n",
      " [   3    2    1    4    3    3    1    1    2    7    1    0    2]]\n"
     ]
    }
   ],
   "source": [
    "pred = poisson_pred(b, x) # Predictions\n",
    "\n",
    "results = np.vstack((x + np.min(data[\"yr\"].to_numpy()), pred))\n",
    "print(\"Predicted values\")\n",
    "print(results)"
   ]
  },
  {
   "cell_type": "markdown",
   "metadata": {},
   "source": [
    "# FAIR data\n",
    "\n",
    "This workflow relates to FAIR data principles because\n",
    "*   It is uploaded in Github with keywords, so it is findable by both humans and computers\n",
    "*   It is also accessible, since it is contained in a Github repository\n",
    "*   The data is contained in a .csv file, so it is interoperable\n",
    "*   There is a data usage license and the keywords describe accurate and relevant attributes, so it is reusable"
   ]
  }
 ],
 "metadata": {
  "kernelspec": {
   "display_name": "Python 3",
   "language": "python",
   "name": "python3"
  },
  "language_info": {
   "codemirror_mode": {
    "name": "ipython",
    "version": 3
   },
   "file_extension": ".py",
   "mimetype": "text/x-python",
   "name": "python",
   "nbconvert_exporter": "python",
   "pygments_lexer": "ipython3",
   "version": "3.11.8"
  }
 },
 "nbformat": 4,
 "nbformat_minor": 2
}
